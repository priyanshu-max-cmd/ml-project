{
 "cells": [
  {
   "cell_type": "code",
   "execution_count": 2,
   "id": "348cf880-e86e-4708-ae5f-fc503d1ea5b5",
   "metadata": {},
   "outputs": [
    {
     "name": "stderr",
     "output_type": "stream",
     "text": [
      "C:\\Users\\akars\\AppData\\Local\\Temp\\ipykernel_5960\\4188694347.py:16: FutureWarning: A value is trying to be set on a copy of a DataFrame or Series through chained assignment using an inplace method.\n",
      "The behavior will change in pandas 3.0. This inplace method will never work because the intermediate object on which we are setting values always behaves as a copy.\n",
      "\n",
      "For example, when doing 'df[col].method(value, inplace=True)', try using 'df.method({col: value}, inplace=True)' or df[col] = df[col].method(value) instead, to perform the operation inplace on the original object.\n",
      "\n",
      "\n",
      "  df['Tagline'].fillna('', inplace=True)\n"
     ]
    },
    {
     "name": "stdout",
     "output_type": "stream",
     "text": [
      "Accuracy: 82.26%\n",
      "\n",
      "Classification Report:\n",
      "               precision    recall  f1-score   support\n",
      "\n",
      "           0       0.84      0.90      0.87       162\n",
      "           1       0.78      0.67      0.72        86\n",
      "\n",
      "    accuracy                           0.82       248\n",
      "   macro avg       0.81      0.79      0.80       248\n",
      "weighted avg       0.82      0.82      0.82       248\n",
      "\n"
     ]
    }
   ],
   "source": [
    "import pandas as pd\n",
    "import numpy as np\n",
    "import os\n",
    "from sklearn.model_selection import train_test_split\n",
    "from sklearn.feature_extraction.text import TfidfVectorizer\n",
    "from sklearn.preprocessing import LabelEncoder\n",
    "from sklearn.ensemble import RandomForestClassifier\n",
    "from sklearn.metrics import accuracy_score, classification_report\n",
    "\n",
    "# Load dataset\n",
    "data = pd.read_csv(r'C:\\project ML others\\priyanshu\\archive (3)\\file_mapping.csv')\n",
    "\n",
    "df = pd.DataFrame(data)\n",
    "\n",
    "# Handle missing values\n",
    "df['Tagline'].fillna('', inplace=True)\n",
    "\n",
    "# Encode target variable\n",
    "le = LabelEncoder()\n",
    "df['Label'] = le.fit_transform(df['Label'])  # Genuine = 0, Fake = 1\n",
    "\n",
    "# Feature extraction\n",
    "tfidf = TfidfVectorizer(max_features=100)\n",
    "tagline_features = tfidf.fit_transform(df['Tagline']).toarray()\n",
    "\n",
    "# Combine features\n",
    "features = np.hstack([tagline_features])\n",
    "\n",
    "# Train-test split\n",
    "X_train, X_test, y_train, y_test = train_test_split(features, df['Label'], test_size=0.3, random_state=42)\n",
    "\n",
    "# Model training\n",
    "model = RandomForestClassifier(random_state=42)\n",
    "model.fit(X_train, y_train)\n",
    "\n",
    "# Predictions\n",
    "y_pred = model.predict(X_test)\n",
    "\n",
    "# Evaluation\n",
    "accuracy = accuracy_score(y_test, y_pred)\n",
    "print(f\"Accuracy: {accuracy * 100:.2f}%\")\n",
    "print(\"\\nClassification Report:\\n\", classification_report(y_test, y_pred))\n"
   ]
  },
  {
   "cell_type": "code",
   "execution_count": 3,
   "id": "27e53aba-bc22-4c03-8a64-c2c54551fad5",
   "metadata": {},
   "outputs": [
    {
     "name": "stdout",
     "output_type": "stream",
     "text": [
      "Confusion Matrix:\n",
      "[[146  16]\n",
      " [ 28  58]]\n",
      "\n",
      "Classification Report:\n",
      "              precision    recall  f1-score   support\n",
      "\n",
      "           0       0.84      0.90      0.87       162\n",
      "           1       0.78      0.67      0.72        86\n",
      "\n",
      "    accuracy                           0.82       248\n",
      "   macro avg       0.81      0.79      0.80       248\n",
      "weighted avg       0.82      0.82      0.82       248\n",
      "\n"
     ]
    }
   ],
   "source": [
    "# Evaluate on test data\n",
    "from sklearn.metrics import confusion_matrix\n",
    "\n",
    "# Predictions on test set\n",
    "y_pred = model.predict(X_test)\n",
    "\n",
    "# Confusion matrix\n",
    "cm = confusion_matrix(y_test, y_pred)\n",
    "print(\"Confusion Matrix:\")\n",
    "print(cm)\n",
    "\n",
    "# Classification Report\n",
    "print(\"\\nClassification Report:\")\n",
    "print(classification_report(y_test, y_pred))\n"
   ]
  },
  {
   "cell_type": "code",
   "execution_count": 4,
   "id": "8f08b20b-f33d-4fdc-9760-0347581e5ad2",
   "metadata": {},
   "outputs": [
    {
     "name": "stdout",
     "output_type": "stream",
     "text": [
      "Predictions for custom inputs: ['Genuine' 'Fake']\n"
     ]
    }
   ],
   "source": [
    "# Example custom tagline\n",
    "custom_taglines = [\"The Best a Man Can Get.\", \"antiophthalmic_factor crown for every accomplishment .\"]\n",
    "\n",
    "# Transform custom tagline using the same TF-IDF vectorizer\n",
    "custom_features = tfidf.transform(custom_taglines).toarray()\n",
    "\n",
    "# Predict labels\n",
    "custom_predictions = model.predict(custom_features)\n",
    "\n",
    "# Decode predictions back to original labels\n",
    "custom_labels = le.inverse_transform(custom_predictions)\n",
    "print(\"Predictions for custom inputs:\", custom_labels)\n",
    "\n"
   ]
  },
  {
   "cell_type": "code",
   "execution_count": 5,
   "id": "e2e726b2-e4d0-48ad-b81a-28499c26d910",
   "metadata": {},
   "outputs": [
    {
     "data": {
      "image/png": "[encoded data removed]",
      "text/plain": [
       "<Figure size 1000x600 with 1 Axes>"
      ]
     },
     "metadata": {},
     "output_type": "display_data"
    }
   ],
   "source": [
    "import matplotlib.pyplot as plt\n",
    "\n",
    "# Feature importance\n",
    "importances = model.feature_importances_\n",
    "indices = np.argsort(importances)[::-1]\n",
    "\n",
    "# Plot feature importance\n",
    "plt.figure(figsize=(10, 6))\n",
    "plt.title(\"Feature Importance\")\n",
    "plt.bar(range(len(importances)), importances[indices], align=\"center\")\n",
    "plt.xlabel(\"Feature Index\")\n",
    "plt.ylabel(\"Importance\")\n",
    "plt.show()\n"
   ]
  },
  {
   "cell_type": "code",
   "execution_count": 6,
   "id": "b2149c72-c9fa-4150-8d9c-b60751204c03",
   "metadata": {},
   "outputs": [
    {
     "name": "stdout",
     "output_type": "stream",
     "text": [
      "Cross-Validation Accuracy: 82.30% (+/- 1.04%)\n"
     ]
    }
   ],
   "source": [
    "from sklearn.model_selection import cross_val_score\n",
    "\n",
    "# Perform 5-fold cross-validation\n",
    "cv_scores = cross_val_score(model, features, df['Label'], cv=5, scoring='accuracy')\n",
    "print(f\"Cross-Validation Accuracy: {cv_scores.mean() * 100:.2f}% (+/- {cv_scores.std() * 100:.2f}%)\")\n"
   ]
  },
  {
   "cell_type": "code",
   "execution_count": 7,
   "id": "9c166f44-8204-429e-acc3-2254f5c889d6",
   "metadata": {},
   "outputs": [
    {
     "name": "stdout",
     "output_type": "stream",
     "text": [
      "Prediction: ['Genuine']\n"
     ]
    }
   ],
   "source": [
    "import joblib\n",
    "\n",
    "# Save the model and vectorizer\n",
    "joblib.dump(model, \"fake_logo_model.pkl\")\n",
    "joblib.dump(tfidf, \"tfidf_vectorizer.pkl\")\n",
    "\n",
    "# Load the model and vectorizer\n",
    "loaded_model = joblib.load(\"fake_logo_model.pkl\")\n",
    "loaded_tfidf = joblib.load(\"tfidf_vectorizer.pkl\")\n",
    "\n",
    "# Test loaded model\n",
    "custom_features = loaded_tfidf.transform([\"Make Your Day.\"]).toarray()\n",
    "print(\"Prediction:\", le.inverse_transform(loaded_model.predict(custom_features)))\n"
   ]
  },
  {
   "cell_type": "code",
   "execution_count": null,
   "id": "9447e157-8821-4385-b139-3e94172ca26b",
   "metadata": {},
   "outputs": [],
   "source": []
  }
 ],
 "metadata": {
  "kernelspec": {
   "display_name": "Python 3 (ipykernel)",
   "language": "python",
   "name": "python3"
  },
  "language_info": {
   "codemirror_mode": {
    "name": "ipython",
    "version": 3
   },
   "file_extension": ".py",
   "mimetype": "text/x-python",
   "name": "python",
   "nbconvert_exporter": "python",
   "pygments_lexer": "ipython3",
   "version": "3.10.11"
  }
 },
 "nbformat": 4,
 "nbformat_minor": 5
}
